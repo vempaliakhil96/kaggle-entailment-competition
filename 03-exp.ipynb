{
  "cells": [
    {
      "cell_type": "markdown",
      "metadata": {
        "id": "view-in-github",
        "colab_type": "text"
      },
      "source": [
        "<a href=\"https://colab.research.google.com/github/vempaliakhil96/kaggle-entailment-competition/blob/main/03-exp.ipynb\" target=\"_parent\"><img src=\"https://colab.research.google.com/assets/colab-badge.svg\" alt=\"Open In Colab\"/></a>"
      ]
    },
    {
      "cell_type": "markdown",
      "source": [
        "## Setup"
      ],
      "metadata": {
        "id": "nryewEt0q6yT"
      },
      "id": "nryewEt0q6yT"
    },
    {
      "cell_type": "code",
      "execution_count": 26,
      "id": "ff57ddee",
      "metadata": {
        "id": "ff57ddee"
      },
      "outputs": [],
      "source": [
        "! pip install fastkaggle fastai pandas fastcore tqdm datasets transformers[torch] accelerate evaluate --quiet"
      ]
    },
    {
      "cell_type": "code",
      "execution_count": 27,
      "id": "0c14dcd2",
      "metadata": {
        "id": "0c14dcd2"
      },
      "outputs": [],
      "source": [
        "from fastkaggle import *\n",
        "from transformers import AutoTokenizer, AutoModelForSequenceClassification, pipeline\n",
        "from fastai.text.all import *\n",
        "from tqdm import tqdm\n",
        "import pandas as pd\n",
        "import numpy as np\n",
        "import evaluate\n",
        "import datasets\n",
        "from transformers import TrainingArguments,Trainer\n",
        "import torch\n",
        "from torch.utils.data import DataLoader\n",
        "import os\n",
        "from google.colab import userdata\n",
        "\n",
        "os.environ[\"KAGGLE_KEY\"] = userdata.get('KAGGLE_KEY')\n",
        "os.environ[\"KAGGLE_USERNAME\"] = userdata.get('KAGGLE_USERNAME')\n",
        "tqdm.pandas()\n"
      ]
    },
    {
      "cell_type": "code",
      "execution_count": 28,
      "id": "7c0a2a16",
      "metadata": {
        "id": "7c0a2a16"
      },
      "outputs": [],
      "source": [
        "if not iskaggle: api = import_kaggle()"
      ]
    },
    {
      "cell_type": "code",
      "execution_count": 29,
      "id": "7d3b00cd",
      "metadata": {
        "id": "7d3b00cd"
      },
      "outputs": [],
      "source": [
        "comp_name = \"contradictory-my-dear-watson\""
      ]
    },
    {
      "cell_type": "code",
      "execution_count": 30,
      "id": "0202780f",
      "metadata": {
        "id": "0202780f"
      },
      "outputs": [],
      "source": [
        "dpath = setup_comp(comp_name)"
      ]
    },
    {
      "cell_type": "code",
      "execution_count": 31,
      "id": "ae9b1ac9",
      "metadata": {
        "colab": {
          "base_uri": "https://localhost:8080/"
        },
        "id": "ae9b1ac9",
        "outputId": "3b5951ad-8036-4487-fad3-c89450f45be6"
      },
      "outputs": [
        {
          "output_type": "execute_result",
          "data": {
            "text/plain": [
              "(#3) [Path('contradictory-my-dear-watson/test.csv'),Path('contradictory-my-dear-watson/sample_submission.csv'),Path('contradictory-my-dear-watson/train.csv')]"
            ]
          },
          "metadata": {},
          "execution_count": 31
        }
      ],
      "source": [
        "dpath.ls()"
      ]
    },
    {
      "cell_type": "code",
      "execution_count": 32,
      "id": "3987b855",
      "metadata": {
        "colab": {
          "base_uri": "https://localhost:8080/"
        },
        "id": "3987b855",
        "outputId": "63418e30-38fe-45b7-ccdc-a120803b4f8f"
      },
      "outputs": [
        {
          "output_type": "stream",
          "name": "stderr",
          "text": [
            "Some weights of DebertaV2ForSequenceClassification were not initialized from the model checkpoint at microsoft/deberta-v3-small and are newly initialized: ['classifier.bias', 'classifier.weight', 'pooler.dense.bias', 'pooler.dense.weight']\n",
            "You should probably TRAIN this model on a down-stream task to be able to use it for predictions and inference.\n",
            "/usr/local/lib/python3.10/dist-packages/transformers/convert_slow_tokenizer.py:560: UserWarning: The sentencepiece tokenizer that you are converting to a fast tokenizer uses the byte fallback option which is not implemented in the fast tokenizers. In practice this means that the fast version of the tokenizer can produce unknown tokens whereas the sentencepiece version would have converted these unknown tokens into a sequence of byte tokens matching the original piece of text.\n",
            "  warnings.warn(\n"
          ]
        }
      ],
      "source": [
        "device = \"mps\" if torch.backends.mps.is_available() else \"cpu\"\n",
        "device = \"cuda\" if torch.cuda.is_available() else device\n",
        "mname = 'cross-encoder/nli-distilroberta-base'\n",
        "mname = 'microsoft/deberta-v3-small'\n",
        "model = AutoModelForSequenceClassification.from_pretrained(mname, num_labels=3).to(device)\n",
        "tokenizer = AutoTokenizer.from_pretrained(mname)\n"
      ]
    },
    {
      "cell_type": "code",
      "execution_count": 8,
      "id": "a4ddfa51",
      "metadata": {
        "id": "a4ddfa51"
      },
      "outputs": [],
      "source": [
        "def baseline_prediction(premise, hypothesis):\n",
        "    toks = tokenizer([premise], [hypothesis], return_tensors='pt', padding=True, truncation=True).to(device)\n",
        "    scores = model(**toks).logits\n",
        "    label_mapping = ['contradiction', 'entailment', 'neutral']\n",
        "    label = [label_mapping[score_max] for score_max in scores.argmax(dim=1)]\n",
        "    return label[0]\n",
        "\n",
        "def bulk_baseline_predict(premises, hypotheses):\n",
        "    labels = []\n",
        "    bs = 8\n",
        "    for i in tqdm(range(0, len(premises), bs)):\n",
        "        toks = tokenizer(premises[i:i+bs], hypotheses[i:i+bs], return_tensors='pt', padding=True, truncation=True).to(device)\n",
        "        scores = model(**toks).logits\n",
        "        label_mapping = ['contradiction', 'entailment', 'neutral']\n",
        "        _labels = [label_mapping[score_max] for score_max in scores.argmax(dim=1)]\n",
        "        labels.extend(_labels)\n",
        "    return labels"
      ]
    },
    {
      "cell_type": "code",
      "execution_count": 35,
      "id": "3fbc7ee3",
      "metadata": {
        "id": "3fbc7ee3"
      },
      "outputs": [],
      "source": [
        "comp_id2label = {\n",
        "    0: \"entailment\",\n",
        "    1: \"neutral\",\n",
        "    2: \"contradiction\"\n",
        "}\n",
        "label2comp_id = {v:k for k,v in comp_id2label.items()}\n",
        "model.config.label2id = label2comp_id\n",
        "model.config.id2label = comp_id2label"
      ]
    },
    {
      "cell_type": "code",
      "source": [
        "tokenizer.model_max_length = 512"
      ],
      "metadata": {
        "id": "EwdQo4GfxFQU"
      },
      "id": "EwdQo4GfxFQU",
      "execution_count": 44,
      "outputs": []
    },
    {
      "cell_type": "markdown",
      "source": [
        "# Data Processing"
      ],
      "metadata": {
        "id": "eFo2hEmrq3Oa"
      },
      "id": "eFo2hEmrq3Oa"
    },
    {
      "cell_type": "code",
      "execution_count": 45,
      "id": "6d8314ec",
      "metadata": {
        "id": "6d8314ec"
      },
      "outputs": [],
      "source": [
        "train_df = pd.read_csv(dpath/\"train.csv\")\n",
        "test_df = pd.read_csv(dpath/\"test.csv\")\n",
        "\n",
        "def _process_text(text): return fix_html(rm_useless_spaces(spec_add_spaces(text)))\n",
        "\n",
        "def tokfn(x): return tokenizer(x[\"input\"], truncation=True)\n",
        "\n",
        "train_df.premise = train_df.premise.apply(_process_text)\n",
        "train_df.hypothesis = train_df.hypothesis.apply(_process_text)\n",
        "train_df.label = train_df.label.map(comp_id2label).map(model.config.label2id)\n",
        "test_df.premise = test_df.premise.apply(_process_text)\n",
        "test_df.hypothesis = test_df.hypothesis.apply(_process_text)\n",
        "train_df[\"input\"] = \"premise: \" + train_df.premise + \"\\nhypothesis: \" + train_df.hypothesis\n",
        "test_df[\"input\"] = \"premise: \" + test_df.premise + \"\\nhypothesis: \" + test_df.hypothesis\n",
        "\n",
        "train_ds = datasets.Dataset.from_pandas(train_df[[\"input\", \"label\"]])\n",
        "test_ds = datasets.Dataset.from_pandas(test_df[[\"id\", \"input\"]])\n",
        "train_ds = train_ds.train_test_split(test_size=0.1)"
      ]
    },
    {
      "cell_type": "code",
      "execution_count": 46,
      "id": "d3585a4e-a47a-415f-945b-a88ddff82e5c",
      "metadata": {
        "colab": {
          "base_uri": "https://localhost:8080/",
          "height": 81,
          "referenced_widgets": [
            "d6541ac8c1cb4b65a977c03cf545adc3",
            "1c0c16df8a574d5eb5e0b359d7b72d12",
            "cb3e62e8a62a4d40a5acea754fdf8ec8",
            "3da20f6688ab4bb091cf6bea2a368145",
            "45b5ee8b34c84400a32952d6eb234513",
            "e4e7b87a137e4594a05ccbd9f7f9cd7b",
            "3904e0c3a038417c9923b8342dfd1f4a",
            "39b25886c1a04b16b737565717b2b560",
            "f09a4ea370404a7f80b95d6a66432d85",
            "581d2906d3004a49a92bc08b01394bb9",
            "46c393d58122405db8104354fbc8ae76",
            "95969ae469c0478f9282c8dc63aa33d4",
            "144fb41c64bb48b2914e0957e150ea35",
            "5f628251bc104059b43d0995eb857cf3",
            "9a89bcc2378e4810af13869344101ba6",
            "e95d3900d3d94e3da246e2c58918d99e",
            "9f5ff702e4134f2ba27781cc2b954697",
            "c6e73a9569934c4582f575fa2cad75ba",
            "0da61c9854a24863aad3664effadbb44",
            "560868f0ea6c424884365869c77531e1",
            "e95922c6b0a0422290fef946336ff8af",
            "03e64273545146c599e67a348f5316f7"
          ]
        },
        "id": "d3585a4e-a47a-415f-945b-a88ddff82e5c",
        "outputId": "06e69460-48e0-45c8-b972-96e190cb3226"
      },
      "outputs": [
        {
          "output_type": "display_data",
          "data": {
            "text/plain": [
              "Map:   0%|          | 0/10908 [00:00<?, ? examples/s]"
            ],
            "application/vnd.jupyter.widget-view+json": {
              "version_major": 2,
              "version_minor": 0,
              "model_id": "d6541ac8c1cb4b65a977c03cf545adc3"
            }
          },
          "metadata": {}
        },
        {
          "output_type": "display_data",
          "data": {
            "text/plain": [
              "Map:   0%|          | 0/1212 [00:00<?, ? examples/s]"
            ],
            "application/vnd.jupyter.widget-view+json": {
              "version_major": 2,
              "version_minor": 0,
              "model_id": "95969ae469c0478f9282c8dc63aa33d4"
            }
          },
          "metadata": {}
        }
      ],
      "source": [
        "train_ds = train_ds.map(tokfn, batched=True)"
      ]
    },
    {
      "cell_type": "markdown",
      "source": [
        "## Training"
      ],
      "metadata": {
        "id": "57Ioq6vdq_vR"
      },
      "id": "57Ioq6vdq_vR"
    },
    {
      "cell_type": "code",
      "execution_count": 47,
      "id": "16ffaae2-be91-492d-9711-cc9f2cf14616",
      "metadata": {
        "id": "16ffaae2-be91-492d-9711-cc9f2cf14616"
      },
      "outputs": [],
      "source": [
        "bs = 8*2\n",
        "epochs = 4\n",
        "lr = 8e-5"
      ]
    },
    {
      "cell_type": "code",
      "execution_count": 48,
      "id": "c40ecffd-aae1-4d0f-99b0-716aceef48f2",
      "metadata": {
        "id": "c40ecffd-aae1-4d0f-99b0-716aceef48f2"
      },
      "outputs": [],
      "source": [
        "args = TrainingArguments('outputs',\n",
        "                         learning_rate=lr,\n",
        "                         warmup_ratio=0.1,\n",
        "                         lr_scheduler_type='cosine',\n",
        "                         fp16=True if torch.cuda.is_available() else False,\n",
        "                         evaluation_strategy=\"epoch\",\n",
        "                         per_device_train_batch_size=bs,\n",
        "                         per_device_eval_batch_size=bs*2,\n",
        "                         num_train_epochs=epochs,\n",
        "                         weight_decay=0.01,\n",
        "                         report_to='none')\n",
        "accuracy = evaluate.load(\"accuracy\")"
      ]
    },
    {
      "cell_type": "code",
      "source": [
        "def compute_metrics(eval_pred):\n",
        "    predictions, labels = eval_pred\n",
        "    predictions = np.argmax(predictions, axis=1)\n",
        "    return accuracy.compute(predictions=predictions, references=labels)"
      ],
      "metadata": {
        "id": "wAkG5556s1Le"
      },
      "id": "wAkG5556s1Le",
      "execution_count": 49,
      "outputs": []
    },
    {
      "cell_type": "code",
      "execution_count": 50,
      "id": "1792e0b7-fb99-45b5-a72b-d4860f014530",
      "metadata": {
        "id": "1792e0b7-fb99-45b5-a72b-d4860f014530"
      },
      "outputs": [],
      "source": [
        "trainer = Trainer(model, args,\n",
        "                  train_dataset=train_ds['train'],\n",
        "                  eval_dataset=train_ds['test'],\n",
        "                  tokenizer=tokenizer,\n",
        "                  compute_metrics=compute_metrics)"
      ]
    },
    {
      "cell_type": "code",
      "execution_count": 51,
      "id": "f4a1182e-4557-4349-90c4-760fd43eee6c",
      "metadata": {
        "colab": {
          "base_uri": "https://localhost:8080/",
          "height": 201
        },
        "id": "f4a1182e-4557-4349-90c4-760fd43eee6c",
        "outputId": "2ec33dbe-836e-45a7-aae1-e11632dcedd2"
      },
      "outputs": [
        {
          "output_type": "display_data",
          "data": {
            "text/plain": [
              "<IPython.core.display.HTML object>"
            ],
            "text/html": [
              "\n",
              "    <div>\n",
              "      \n",
              "      <progress value='2728' max='2728' style='width:300px; height:20px; vertical-align: middle;'></progress>\n",
              "      [2728/2728 08:24, Epoch 4/4]\n",
              "    </div>\n",
              "    <table border=\"1\" class=\"dataframe\">\n",
              "  <thead>\n",
              " <tr style=\"text-align: left;\">\n",
              "      <th>Epoch</th>\n",
              "      <th>Training Loss</th>\n",
              "      <th>Validation Loss</th>\n",
              "      <th>Accuracy</th>\n",
              "    </tr>\n",
              "  </thead>\n",
              "  <tbody>\n",
              "    <tr>\n",
              "      <td>1</td>\n",
              "      <td>0.951400</td>\n",
              "      <td>0.725862</td>\n",
              "      <td>0.670792</td>\n",
              "    </tr>\n",
              "    <tr>\n",
              "      <td>2</td>\n",
              "      <td>0.711700</td>\n",
              "      <td>0.818100</td>\n",
              "      <td>0.691419</td>\n",
              "    </tr>\n",
              "    <tr>\n",
              "      <td>3</td>\n",
              "      <td>0.392800</td>\n",
              "      <td>0.901161</td>\n",
              "      <td>0.713696</td>\n",
              "    </tr>\n",
              "    <tr>\n",
              "      <td>4</td>\n",
              "      <td>0.258200</td>\n",
              "      <td>1.158889</td>\n",
              "      <td>0.708746</td>\n",
              "    </tr>\n",
              "  </tbody>\n",
              "</table><p>"
            ]
          },
          "metadata": {}
        }
      ],
      "source": [
        "trainer.train();"
      ]
    },
    {
      "cell_type": "markdown",
      "source": [
        "## Eval"
      ],
      "metadata": {
        "id": "QsAJc__g6VLs"
      },
      "id": "QsAJc__g6VLs"
    },
    {
      "cell_type": "code",
      "source": [
        "p = pipeline(\"text-classification\", model, tokenizer=tokenizer, device=device)"
      ],
      "metadata": {
        "id": "auXo7R0SvYmz"
      },
      "id": "auXo7R0SvYmz",
      "execution_count": 79,
      "outputs": []
    },
    {
      "cell_type": "code",
      "source": [
        "p(train_ds[\"test\"][1][\"input\"])"
      ],
      "metadata": {
        "id": "NEVh2vVO0F3N",
        "outputId": "b1607822-a268-480f-c156-3bb7c7f8b191",
        "colab": {
          "base_uri": "https://localhost:8080/"
        }
      },
      "id": "NEVh2vVO0F3N",
      "execution_count": 80,
      "outputs": [
        {
          "output_type": "execute_result",
          "data": {
            "text/plain": [
              "[{'label': 'entailment', 'score': 0.9987471103668213}]"
            ]
          },
          "metadata": {},
          "execution_count": 80
        }
      ]
    },
    {
      "cell_type": "code",
      "source": [
        "len(test_ds)"
      ],
      "metadata": {
        "id": "mEH0Szxv2Rdg",
        "outputId": "1312c375-a44c-4aa4-e81c-1af68bfe0ed3",
        "colab": {
          "base_uri": "https://localhost:8080/"
        }
      },
      "id": "mEH0Szxv2Rdg",
      "execution_count": 81,
      "outputs": [
        {
          "output_type": "execute_result",
          "data": {
            "text/plain": [
              "5195"
            ]
          },
          "metadata": {},
          "execution_count": 81
        }
      ]
    },
    {
      "cell_type": "code",
      "source": [
        "predictions = []\n",
        "for i in tqdm(range(0, len(test_ds), bs)): predictions.extend(p(test_ds[\"input\"][i:i+bs]))"
      ],
      "metadata": {
        "id": "0bhIE6Fe0TkW",
        "outputId": "9f92fe3b-76c7-44e0-deef-c0aa06589918",
        "colab": {
          "base_uri": "https://localhost:8080/"
        }
      },
      "id": "0bhIE6Fe0TkW",
      "execution_count": 89,
      "outputs": [
        {
          "output_type": "stream",
          "name": "stderr",
          "text": [
            "100%|██████████| 325/325 [02:11<00:00,  2.47it/s]\n"
          ]
        }
      ]
    },
    {
      "cell_type": "code",
      "source": [
        "test_ds = test_ds.add_column(\"prediction\", [o[\"label\"] for o in predictions])"
      ],
      "metadata": {
        "id": "mxv8wKsM39cK"
      },
      "id": "mxv8wKsM39cK",
      "execution_count": 93,
      "outputs": []
    },
    {
      "cell_type": "code",
      "source": [
        "test_ds = test_ds.map(lambda x: dict(prediction=label2comp_id[x[\"prediction\"]]))"
      ],
      "metadata": {
        "id": "VYD7aDox5QTn",
        "outputId": "49e34874-04dc-400f-8876-dfbb3474f197",
        "colab": {
          "base_uri": "https://localhost:8080/",
          "height": 49,
          "referenced_widgets": [
            "f210017f777d43a594a5b1f5083254d0",
            "b6786e4627f24d258b0d2d0be98a60f0",
            "2164deb9826947c8ac83c0afc0d0aa75",
            "6b2be490511a4e7c912a3da3db4e377d",
            "e71d3aece8bc4efebd22f0935561f2dc",
            "926607b037b0496db14c3ce892b7f617",
            "d8eebcbe72d24956b47fc3abed3f8926",
            "b1881ff0858e491487b352b70700c51c",
            "44c3f0874b944fc6b1606b74bd8d05d5",
            "b98a0959405b41acb6bc12bb5197a25f",
            "3c8f1ef5ec8c4425abfef1faf9f237de"
          ]
        }
      },
      "id": "VYD7aDox5QTn",
      "execution_count": 98,
      "outputs": [
        {
          "output_type": "display_data",
          "data": {
            "text/plain": [
              "Map:   0%|          | 0/5195 [00:00<?, ? examples/s]"
            ],
            "application/vnd.jupyter.widget-view+json": {
              "version_major": 2,
              "version_minor": 0,
              "model_id": "f210017f777d43a594a5b1f5083254d0"
            }
          },
          "metadata": {}
        }
      ]
    },
    {
      "cell_type": "code",
      "source": [
        "test_ds[10]"
      ],
      "metadata": {
        "id": "KKnlGGqm59e-",
        "outputId": "199647dd-f05b-4753-9888-9afaa52d01f0",
        "colab": {
          "base_uri": "https://localhost:8080/"
        }
      },
      "id": "KKnlGGqm59e-",
      "execution_count": 101,
      "outputs": [
        {
          "output_type": "execute_result",
          "data": {
            "text/plain": [
              "{'id': 'f11f1ffffe',\n",
              " 'input': 'premise: how long has he been in his present position\\nhypothesis: What length of time has he held the current position?',\n",
              " 'prediction': 0}"
            ]
          },
          "metadata": {},
          "execution_count": 101
        }
      ]
    },
    {
      "cell_type": "code",
      "execution_count": 17,
      "id": "b7391e76",
      "metadata": {
        "id": "b7391e76"
      },
      "outputs": [],
      "source": [
        "# if not iskaggle:\n",
        "#     push_notebook('vempaliakhil96', '03-exp',\n",
        "#                   title='03-exp',\n",
        "#                   file='03-exp.ipynb',\n",
        "#                   competition=comp_name,\n",
        "#                   private=False,\n",
        "#                   gpu=True)"
      ]
    }
  ],
  "metadata": {
    "kernelspec": {
      "display_name": "Python 3",
      "name": "python3"
    },
    "widgets": {
      "application/vnd.jupyter.widget-state+json": {
        "d6541ac8c1cb4b65a977c03cf545adc3": {
          "model_module": "@jupyter-widgets/controls",
          "model_name": "HBoxModel",
          "model_module_version": "1.5.0",
          "state": {
            "_dom_classes": [],
            "_model_module": "@jupyter-widgets/controls",
            "_model_module_version": "1.5.0",
            "_model_name": "HBoxModel",
            "_view_count": null,
            "_view_module": "@jupyter-widgets/controls",
            "_view_module_version": "1.5.0",
            "_view_name": "HBoxView",
            "box_style": "",
            "children": [
              "IPY_MODEL_1c0c16df8a574d5eb5e0b359d7b72d12",
              "IPY_MODEL_cb3e62e8a62a4d40a5acea754fdf8ec8",
              "IPY_MODEL_3da20f6688ab4bb091cf6bea2a368145"
            ],
            "layout": "IPY_MODEL_45b5ee8b34c84400a32952d6eb234513"
          }
        },
        "1c0c16df8a574d5eb5e0b359d7b72d12": {
          "model_module": "@jupyter-widgets/controls",
          "model_name": "HTMLModel",
          "model_module_version": "1.5.0",
          "state": {
            "_dom_classes": [],
            "_model_module": "@jupyter-widgets/controls",
            "_model_module_version": "1.5.0",
            "_model_name": "HTMLModel",
            "_view_count": null,
            "_view_module": "@jupyter-widgets/controls",
            "_view_module_version": "1.5.0",
            "_view_name": "HTMLView",
            "description": "",
            "description_tooltip": null,
            "layout": "IPY_MODEL_e4e7b87a137e4594a05ccbd9f7f9cd7b",
            "placeholder": "​",
            "style": "IPY_MODEL_3904e0c3a038417c9923b8342dfd1f4a",
            "value": "Map: 100%"
          }
        },
        "cb3e62e8a62a4d40a5acea754fdf8ec8": {
          "model_module": "@jupyter-widgets/controls",
          "model_name": "FloatProgressModel",
          "model_module_version": "1.5.0",
          "state": {
            "_dom_classes": [],
            "_model_module": "@jupyter-widgets/controls",
            "_model_module_version": "1.5.0",
            "_model_name": "FloatProgressModel",
            "_view_count": null,
            "_view_module": "@jupyter-widgets/controls",
            "_view_module_version": "1.5.0",
            "_view_name": "ProgressView",
            "bar_style": "success",
            "description": "",
            "description_tooltip": null,
            "layout": "IPY_MODEL_39b25886c1a04b16b737565717b2b560",
            "max": 10908,
            "min": 0,
            "orientation": "horizontal",
            "style": "IPY_MODEL_f09a4ea370404a7f80b95d6a66432d85",
            "value": 10908
          }
        },
        "3da20f6688ab4bb091cf6bea2a368145": {
          "model_module": "@jupyter-widgets/controls",
          "model_name": "HTMLModel",
          "model_module_version": "1.5.0",
          "state": {
            "_dom_classes": [],
            "_model_module": "@jupyter-widgets/controls",
            "_model_module_version": "1.5.0",
            "_model_name": "HTMLModel",
            "_view_count": null,
            "_view_module": "@jupyter-widgets/controls",
            "_view_module_version": "1.5.0",
            "_view_name": "HTMLView",
            "description": "",
            "description_tooltip": null,
            "layout": "IPY_MODEL_581d2906d3004a49a92bc08b01394bb9",
            "placeholder": "​",
            "style": "IPY_MODEL_46c393d58122405db8104354fbc8ae76",
            "value": " 10908/10908 [00:02&lt;00:00, 5166.15 examples/s]"
          }
        },
        "45b5ee8b34c84400a32952d6eb234513": {
          "model_module": "@jupyter-widgets/base",
          "model_name": "LayoutModel",
          "model_module_version": "1.2.0",
          "state": {
            "_model_module": "@jupyter-widgets/base",
            "_model_module_version": "1.2.0",
            "_model_name": "LayoutModel",
            "_view_count": null,
            "_view_module": "@jupyter-widgets/base",
            "_view_module_version": "1.2.0",
            "_view_name": "LayoutView",
            "align_content": null,
            "align_items": null,
            "align_self": null,
            "border": null,
            "bottom": null,
            "display": null,
            "flex": null,
            "flex_flow": null,
            "grid_area": null,
            "grid_auto_columns": null,
            "grid_auto_flow": null,
            "grid_auto_rows": null,
            "grid_column": null,
            "grid_gap": null,
            "grid_row": null,
            "grid_template_areas": null,
            "grid_template_columns": null,
            "grid_template_rows": null,
            "height": null,
            "justify_content": null,
            "justify_items": null,
            "left": null,
            "margin": null,
            "max_height": null,
            "max_width": null,
            "min_height": null,
            "min_width": null,
            "object_fit": null,
            "object_position": null,
            "order": null,
            "overflow": null,
            "overflow_x": null,
            "overflow_y": null,
            "padding": null,
            "right": null,
            "top": null,
            "visibility": null,
            "width": null
          }
        },
        "e4e7b87a137e4594a05ccbd9f7f9cd7b": {
          "model_module": "@jupyter-widgets/base",
          "model_name": "LayoutModel",
          "model_module_version": "1.2.0",
          "state": {
            "_model_module": "@jupyter-widgets/base",
            "_model_module_version": "1.2.0",
            "_model_name": "LayoutModel",
            "_view_count": null,
            "_view_module": "@jupyter-widgets/base",
            "_view_module_version": "1.2.0",
            "_view_name": "LayoutView",
            "align_content": null,
            "align_items": null,
            "align_self": null,
            "border": null,
            "bottom": null,
            "display": null,
            "flex": null,
            "flex_flow": null,
            "grid_area": null,
            "grid_auto_columns": null,
            "grid_auto_flow": null,
            "grid_auto_rows": null,
            "grid_column": null,
            "grid_gap": null,
            "grid_row": null,
            "grid_template_areas": null,
            "grid_template_columns": null,
            "grid_template_rows": null,
            "height": null,
            "justify_content": null,
            "justify_items": null,
            "left": null,
            "margin": null,
            "max_height": null,
            "max_width": null,
            "min_height": null,
            "min_width": null,
            "object_fit": null,
            "object_position": null,
            "order": null,
            "overflow": null,
            "overflow_x": null,
            "overflow_y": null,
            "padding": null,
            "right": null,
            "top": null,
            "visibility": null,
            "width": null
          }
        },
        "3904e0c3a038417c9923b8342dfd1f4a": {
          "model_module": "@jupyter-widgets/controls",
          "model_name": "DescriptionStyleModel",
          "model_module_version": "1.5.0",
          "state": {
            "_model_module": "@jupyter-widgets/controls",
            "_model_module_version": "1.5.0",
            "_model_name": "DescriptionStyleModel",
            "_view_count": null,
            "_view_module": "@jupyter-widgets/base",
            "_view_module_version": "1.2.0",
            "_view_name": "StyleView",
            "description_width": ""
          }
        },
        "39b25886c1a04b16b737565717b2b560": {
          "model_module": "@jupyter-widgets/base",
          "model_name": "LayoutModel",
          "model_module_version": "1.2.0",
          "state": {
            "_model_module": "@jupyter-widgets/base",
            "_model_module_version": "1.2.0",
            "_model_name": "LayoutModel",
            "_view_count": null,
            "_view_module": "@jupyter-widgets/base",
            "_view_module_version": "1.2.0",
            "_view_name": "LayoutView",
            "align_content": null,
            "align_items": null,
            "align_self": null,
            "border": null,
            "bottom": null,
            "display": null,
            "flex": null,
            "flex_flow": null,
            "grid_area": null,
            "grid_auto_columns": null,
            "grid_auto_flow": null,
            "grid_auto_rows": null,
            "grid_column": null,
            "grid_gap": null,
            "grid_row": null,
            "grid_template_areas": null,
            "grid_template_columns": null,
            "grid_template_rows": null,
            "height": null,
            "justify_content": null,
            "justify_items": null,
            "left": null,
            "margin": null,
            "max_height": null,
            "max_width": null,
            "min_height": null,
            "min_width": null,
            "object_fit": null,
            "object_position": null,
            "order": null,
            "overflow": null,
            "overflow_x": null,
            "overflow_y": null,
            "padding": null,
            "right": null,
            "top": null,
            "visibility": null,
            "width": null
          }
        },
        "f09a4ea370404a7f80b95d6a66432d85": {
          "model_module": "@jupyter-widgets/controls",
          "model_name": "ProgressStyleModel",
          "model_module_version": "1.5.0",
          "state": {
            "_model_module": "@jupyter-widgets/controls",
            "_model_module_version": "1.5.0",
            "_model_name": "ProgressStyleModel",
            "_view_count": null,
            "_view_module": "@jupyter-widgets/base",
            "_view_module_version": "1.2.0",
            "_view_name": "StyleView",
            "bar_color": null,
            "description_width": ""
          }
        },
        "581d2906d3004a49a92bc08b01394bb9": {
          "model_module": "@jupyter-widgets/base",
          "model_name": "LayoutModel",
          "model_module_version": "1.2.0",
          "state": {
            "_model_module": "@jupyter-widgets/base",
            "_model_module_version": "1.2.0",
            "_model_name": "LayoutModel",
            "_view_count": null,
            "_view_module": "@jupyter-widgets/base",
            "_view_module_version": "1.2.0",
            "_view_name": "LayoutView",
            "align_content": null,
            "align_items": null,
            "align_self": null,
            "border": null,
            "bottom": null,
            "display": null,
            "flex": null,
            "flex_flow": null,
            "grid_area": null,
            "grid_auto_columns": null,
            "grid_auto_flow": null,
            "grid_auto_rows": null,
            "grid_column": null,
            "grid_gap": null,
            "grid_row": null,
            "grid_template_areas": null,
            "grid_template_columns": null,
            "grid_template_rows": null,
            "height": null,
            "justify_content": null,
            "justify_items": null,
            "left": null,
            "margin": null,
            "max_height": null,
            "max_width": null,
            "min_height": null,
            "min_width": null,
            "object_fit": null,
            "object_position": null,
            "order": null,
            "overflow": null,
            "overflow_x": null,
            "overflow_y": null,
            "padding": null,
            "right": null,
            "top": null,
            "visibility": null,
            "width": null
          }
        },
        "46c393d58122405db8104354fbc8ae76": {
          "model_module": "@jupyter-widgets/controls",
          "model_name": "DescriptionStyleModel",
          "model_module_version": "1.5.0",
          "state": {
            "_model_module": "@jupyter-widgets/controls",
            "_model_module_version": "1.5.0",
            "_model_name": "DescriptionStyleModel",
            "_view_count": null,
            "_view_module": "@jupyter-widgets/base",
            "_view_module_version": "1.2.0",
            "_view_name": "StyleView",
            "description_width": ""
          }
        },
        "95969ae469c0478f9282c8dc63aa33d4": {
          "model_module": "@jupyter-widgets/controls",
          "model_name": "HBoxModel",
          "model_module_version": "1.5.0",
          "state": {
            "_dom_classes": [],
            "_model_module": "@jupyter-widgets/controls",
            "_model_module_version": "1.5.0",
            "_model_name": "HBoxModel",
            "_view_count": null,
            "_view_module": "@jupyter-widgets/controls",
            "_view_module_version": "1.5.0",
            "_view_name": "HBoxView",
            "box_style": "",
            "children": [
              "IPY_MODEL_144fb41c64bb48b2914e0957e150ea35",
              "IPY_MODEL_5f628251bc104059b43d0995eb857cf3",
              "IPY_MODEL_9a89bcc2378e4810af13869344101ba6"
            ],
            "layout": "IPY_MODEL_e95d3900d3d94e3da246e2c58918d99e"
          }
        },
        "144fb41c64bb48b2914e0957e150ea35": {
          "model_module": "@jupyter-widgets/controls",
          "model_name": "HTMLModel",
          "model_module_version": "1.5.0",
          "state": {
            "_dom_classes": [],
            "_model_module": "@jupyter-widgets/controls",
            "_model_module_version": "1.5.0",
            "_model_name": "HTMLModel",
            "_view_count": null,
            "_view_module": "@jupyter-widgets/controls",
            "_view_module_version": "1.5.0",
            "_view_name": "HTMLView",
            "description": "",
            "description_tooltip": null,
            "layout": "IPY_MODEL_9f5ff702e4134f2ba27781cc2b954697",
            "placeholder": "​",
            "style": "IPY_MODEL_c6e73a9569934c4582f575fa2cad75ba",
            "value": "Map: 100%"
          }
        },
        "5f628251bc104059b43d0995eb857cf3": {
          "model_module": "@jupyter-widgets/controls",
          "model_name": "FloatProgressModel",
          "model_module_version": "1.5.0",
          "state": {
            "_dom_classes": [],
            "_model_module": "@jupyter-widgets/controls",
            "_model_module_version": "1.5.0",
            "_model_name": "FloatProgressModel",
            "_view_count": null,
            "_view_module": "@jupyter-widgets/controls",
            "_view_module_version": "1.5.0",
            "_view_name": "ProgressView",
            "bar_style": "success",
            "description": "",
            "description_tooltip": null,
            "layout": "IPY_MODEL_0da61c9854a24863aad3664effadbb44",
            "max": 1212,
            "min": 0,
            "orientation": "horizontal",
            "style": "IPY_MODEL_560868f0ea6c424884365869c77531e1",
            "value": 1212
          }
        },
        "9a89bcc2378e4810af13869344101ba6": {
          "model_module": "@jupyter-widgets/controls",
          "model_name": "HTMLModel",
          "model_module_version": "1.5.0",
          "state": {
            "_dom_classes": [],
            "_model_module": "@jupyter-widgets/controls",
            "_model_module_version": "1.5.0",
            "_model_name": "HTMLModel",
            "_view_count": null,
            "_view_module": "@jupyter-widgets/controls",
            "_view_module_version": "1.5.0",
            "_view_name": "HTMLView",
            "description": "",
            "description_tooltip": null,
            "layout": "IPY_MODEL_e95922c6b0a0422290fef946336ff8af",
            "placeholder": "​",
            "style": "IPY_MODEL_03e64273545146c599e67a348f5316f7",
            "value": " 1212/1212 [00:00&lt;00:00, 4687.21 examples/s]"
          }
        },
        "e95d3900d3d94e3da246e2c58918d99e": {
          "model_module": "@jupyter-widgets/base",
          "model_name": "LayoutModel",
          "model_module_version": "1.2.0",
          "state": {
            "_model_module": "@jupyter-widgets/base",
            "_model_module_version": "1.2.0",
            "_model_name": "LayoutModel",
            "_view_count": null,
            "_view_module": "@jupyter-widgets/base",
            "_view_module_version": "1.2.0",
            "_view_name": "LayoutView",
            "align_content": null,
            "align_items": null,
            "align_self": null,
            "border": null,
            "bottom": null,
            "display": null,
            "flex": null,
            "flex_flow": null,
            "grid_area": null,
            "grid_auto_columns": null,
            "grid_auto_flow": null,
            "grid_auto_rows": null,
            "grid_column": null,
            "grid_gap": null,
            "grid_row": null,
            "grid_template_areas": null,
            "grid_template_columns": null,
            "grid_template_rows": null,
            "height": null,
            "justify_content": null,
            "justify_items": null,
            "left": null,
            "margin": null,
            "max_height": null,
            "max_width": null,
            "min_height": null,
            "min_width": null,
            "object_fit": null,
            "object_position": null,
            "order": null,
            "overflow": null,
            "overflow_x": null,
            "overflow_y": null,
            "padding": null,
            "right": null,
            "top": null,
            "visibility": null,
            "width": null
          }
        },
        "9f5ff702e4134f2ba27781cc2b954697": {
          "model_module": "@jupyter-widgets/base",
          "model_name": "LayoutModel",
          "model_module_version": "1.2.0",
          "state": {
            "_model_module": "@jupyter-widgets/base",
            "_model_module_version": "1.2.0",
            "_model_name": "LayoutModel",
            "_view_count": null,
            "_view_module": "@jupyter-widgets/base",
            "_view_module_version": "1.2.0",
            "_view_name": "LayoutView",
            "align_content": null,
            "align_items": null,
            "align_self": null,
            "border": null,
            "bottom": null,
            "display": null,
            "flex": null,
            "flex_flow": null,
            "grid_area": null,
            "grid_auto_columns": null,
            "grid_auto_flow": null,
            "grid_auto_rows": null,
            "grid_column": null,
            "grid_gap": null,
            "grid_row": null,
            "grid_template_areas": null,
            "grid_template_columns": null,
            "grid_template_rows": null,
            "height": null,
            "justify_content": null,
            "justify_items": null,
            "left": null,
            "margin": null,
            "max_height": null,
            "max_width": null,
            "min_height": null,
            "min_width": null,
            "object_fit": null,
            "object_position": null,
            "order": null,
            "overflow": null,
            "overflow_x": null,
            "overflow_y": null,
            "padding": null,
            "right": null,
            "top": null,
            "visibility": null,
            "width": null
          }
        },
        "c6e73a9569934c4582f575fa2cad75ba": {
          "model_module": "@jupyter-widgets/controls",
          "model_name": "DescriptionStyleModel",
          "model_module_version": "1.5.0",
          "state": {
            "_model_module": "@jupyter-widgets/controls",
            "_model_module_version": "1.5.0",
            "_model_name": "DescriptionStyleModel",
            "_view_count": null,
            "_view_module": "@jupyter-widgets/base",
            "_view_module_version": "1.2.0",
            "_view_name": "StyleView",
            "description_width": ""
          }
        },
        "0da61c9854a24863aad3664effadbb44": {
          "model_module": "@jupyter-widgets/base",
          "model_name": "LayoutModel",
          "model_module_version": "1.2.0",
          "state": {
            "_model_module": "@jupyter-widgets/base",
            "_model_module_version": "1.2.0",
            "_model_name": "LayoutModel",
            "_view_count": null,
            "_view_module": "@jupyter-widgets/base",
            "_view_module_version": "1.2.0",
            "_view_name": "LayoutView",
            "align_content": null,
            "align_items": null,
            "align_self": null,
            "border": null,
            "bottom": null,
            "display": null,
            "flex": null,
            "flex_flow": null,
            "grid_area": null,
            "grid_auto_columns": null,
            "grid_auto_flow": null,
            "grid_auto_rows": null,
            "grid_column": null,
            "grid_gap": null,
            "grid_row": null,
            "grid_template_areas": null,
            "grid_template_columns": null,
            "grid_template_rows": null,
            "height": null,
            "justify_content": null,
            "justify_items": null,
            "left": null,
            "margin": null,
            "max_height": null,
            "max_width": null,
            "min_height": null,
            "min_width": null,
            "object_fit": null,
            "object_position": null,
            "order": null,
            "overflow": null,
            "overflow_x": null,
            "overflow_y": null,
            "padding": null,
            "right": null,
            "top": null,
            "visibility": null,
            "width": null
          }
        },
        "560868f0ea6c424884365869c77531e1": {
          "model_module": "@jupyter-widgets/controls",
          "model_name": "ProgressStyleModel",
          "model_module_version": "1.5.0",
          "state": {
            "_model_module": "@jupyter-widgets/controls",
            "_model_module_version": "1.5.0",
            "_model_name": "ProgressStyleModel",
            "_view_count": null,
            "_view_module": "@jupyter-widgets/base",
            "_view_module_version": "1.2.0",
            "_view_name": "StyleView",
            "bar_color": null,
            "description_width": ""
          }
        },
        "e95922c6b0a0422290fef946336ff8af": {
          "model_module": "@jupyter-widgets/base",
          "model_name": "LayoutModel",
          "model_module_version": "1.2.0",
          "state": {
            "_model_module": "@jupyter-widgets/base",
            "_model_module_version": "1.2.0",
            "_model_name": "LayoutModel",
            "_view_count": null,
            "_view_module": "@jupyter-widgets/base",
            "_view_module_version": "1.2.0",
            "_view_name": "LayoutView",
            "align_content": null,
            "align_items": null,
            "align_self": null,
            "border": null,
            "bottom": null,
            "display": null,
            "flex": null,
            "flex_flow": null,
            "grid_area": null,
            "grid_auto_columns": null,
            "grid_auto_flow": null,
            "grid_auto_rows": null,
            "grid_column": null,
            "grid_gap": null,
            "grid_row": null,
            "grid_template_areas": null,
            "grid_template_columns": null,
            "grid_template_rows": null,
            "height": null,
            "justify_content": null,
            "justify_items": null,
            "left": null,
            "margin": null,
            "max_height": null,
            "max_width": null,
            "min_height": null,
            "min_width": null,
            "object_fit": null,
            "object_position": null,
            "order": null,
            "overflow": null,
            "overflow_x": null,
            "overflow_y": null,
            "padding": null,
            "right": null,
            "top": null,
            "visibility": null,
            "width": null
          }
        },
        "03e64273545146c599e67a348f5316f7": {
          "model_module": "@jupyter-widgets/controls",
          "model_name": "DescriptionStyleModel",
          "model_module_version": "1.5.0",
          "state": {
            "_model_module": "@jupyter-widgets/controls",
            "_model_module_version": "1.5.0",
            "_model_name": "DescriptionStyleModel",
            "_view_count": null,
            "_view_module": "@jupyter-widgets/base",
            "_view_module_version": "1.2.0",
            "_view_name": "StyleView",
            "description_width": ""
          }
        },
        "f210017f777d43a594a5b1f5083254d0": {
          "model_module": "@jupyter-widgets/controls",
          "model_name": "HBoxModel",
          "model_module_version": "1.5.0",
          "state": {
            "_dom_classes": [],
            "_model_module": "@jupyter-widgets/controls",
            "_model_module_version": "1.5.0",
            "_model_name": "HBoxModel",
            "_view_count": null,
            "_view_module": "@jupyter-widgets/controls",
            "_view_module_version": "1.5.0",
            "_view_name": "HBoxView",
            "box_style": "",
            "children": [
              "IPY_MODEL_b6786e4627f24d258b0d2d0be98a60f0",
              "IPY_MODEL_2164deb9826947c8ac83c0afc0d0aa75",
              "IPY_MODEL_6b2be490511a4e7c912a3da3db4e377d"
            ],
            "layout": "IPY_MODEL_e71d3aece8bc4efebd22f0935561f2dc"
          }
        },
        "b6786e4627f24d258b0d2d0be98a60f0": {
          "model_module": "@jupyter-widgets/controls",
          "model_name": "HTMLModel",
          "model_module_version": "1.5.0",
          "state": {
            "_dom_classes": [],
            "_model_module": "@jupyter-widgets/controls",
            "_model_module_version": "1.5.0",
            "_model_name": "HTMLModel",
            "_view_count": null,
            "_view_module": "@jupyter-widgets/controls",
            "_view_module_version": "1.5.0",
            "_view_name": "HTMLView",
            "description": "",
            "description_tooltip": null,
            "layout": "IPY_MODEL_926607b037b0496db14c3ce892b7f617",
            "placeholder": "​",
            "style": "IPY_MODEL_d8eebcbe72d24956b47fc3abed3f8926",
            "value": "Map: 100%"
          }
        },
        "2164deb9826947c8ac83c0afc0d0aa75": {
          "model_module": "@jupyter-widgets/controls",
          "model_name": "FloatProgressModel",
          "model_module_version": "1.5.0",
          "state": {
            "_dom_classes": [],
            "_model_module": "@jupyter-widgets/controls",
            "_model_module_version": "1.5.0",
            "_model_name": "FloatProgressModel",
            "_view_count": null,
            "_view_module": "@jupyter-widgets/controls",
            "_view_module_version": "1.5.0",
            "_view_name": "ProgressView",
            "bar_style": "success",
            "description": "",
            "description_tooltip": null,
            "layout": "IPY_MODEL_b1881ff0858e491487b352b70700c51c",
            "max": 5195,
            "min": 0,
            "orientation": "horizontal",
            "style": "IPY_MODEL_44c3f0874b944fc6b1606b74bd8d05d5",
            "value": 5195
          }
        },
        "6b2be490511a4e7c912a3da3db4e377d": {
          "model_module": "@jupyter-widgets/controls",
          "model_name": "HTMLModel",
          "model_module_version": "1.5.0",
          "state": {
            "_dom_classes": [],
            "_model_module": "@jupyter-widgets/controls",
            "_model_module_version": "1.5.0",
            "_model_name": "HTMLModel",
            "_view_count": null,
            "_view_module": "@jupyter-widgets/controls",
            "_view_module_version": "1.5.0",
            "_view_name": "HTMLView",
            "description": "",
            "description_tooltip": null,
            "layout": "IPY_MODEL_b98a0959405b41acb6bc12bb5197a25f",
            "placeholder": "​",
            "style": "IPY_MODEL_3c8f1ef5ec8c4425abfef1faf9f237de",
            "value": " 5195/5195 [00:00&lt;00:00, 10932.82 examples/s]"
          }
        },
        "e71d3aece8bc4efebd22f0935561f2dc": {
          "model_module": "@jupyter-widgets/base",
          "model_name": "LayoutModel",
          "model_module_version": "1.2.0",
          "state": {
            "_model_module": "@jupyter-widgets/base",
            "_model_module_version": "1.2.0",
            "_model_name": "LayoutModel",
            "_view_count": null,
            "_view_module": "@jupyter-widgets/base",
            "_view_module_version": "1.2.0",
            "_view_name": "LayoutView",
            "align_content": null,
            "align_items": null,
            "align_self": null,
            "border": null,
            "bottom": null,
            "display": null,
            "flex": null,
            "flex_flow": null,
            "grid_area": null,
            "grid_auto_columns": null,
            "grid_auto_flow": null,
            "grid_auto_rows": null,
            "grid_column": null,
            "grid_gap": null,
            "grid_row": null,
            "grid_template_areas": null,
            "grid_template_columns": null,
            "grid_template_rows": null,
            "height": null,
            "justify_content": null,
            "justify_items": null,
            "left": null,
            "margin": null,
            "max_height": null,
            "max_width": null,
            "min_height": null,
            "min_width": null,
            "object_fit": null,
            "object_position": null,
            "order": null,
            "overflow": null,
            "overflow_x": null,
            "overflow_y": null,
            "padding": null,
            "right": null,
            "top": null,
            "visibility": null,
            "width": null
          }
        },
        "926607b037b0496db14c3ce892b7f617": {
          "model_module": "@jupyter-widgets/base",
          "model_name": "LayoutModel",
          "model_module_version": "1.2.0",
          "state": {
            "_model_module": "@jupyter-widgets/base",
            "_model_module_version": "1.2.0",
            "_model_name": "LayoutModel",
            "_view_count": null,
            "_view_module": "@jupyter-widgets/base",
            "_view_module_version": "1.2.0",
            "_view_name": "LayoutView",
            "align_content": null,
            "align_items": null,
            "align_self": null,
            "border": null,
            "bottom": null,
            "display": null,
            "flex": null,
            "flex_flow": null,
            "grid_area": null,
            "grid_auto_columns": null,
            "grid_auto_flow": null,
            "grid_auto_rows": null,
            "grid_column": null,
            "grid_gap": null,
            "grid_row": null,
            "grid_template_areas": null,
            "grid_template_columns": null,
            "grid_template_rows": null,
            "height": null,
            "justify_content": null,
            "justify_items": null,
            "left": null,
            "margin": null,
            "max_height": null,
            "max_width": null,
            "min_height": null,
            "min_width": null,
            "object_fit": null,
            "object_position": null,
            "order": null,
            "overflow": null,
            "overflow_x": null,
            "overflow_y": null,
            "padding": null,
            "right": null,
            "top": null,
            "visibility": null,
            "width": null
          }
        },
        "d8eebcbe72d24956b47fc3abed3f8926": {
          "model_module": "@jupyter-widgets/controls",
          "model_name": "DescriptionStyleModel",
          "model_module_version": "1.5.0",
          "state": {
            "_model_module": "@jupyter-widgets/controls",
            "_model_module_version": "1.5.0",
            "_model_name": "DescriptionStyleModel",
            "_view_count": null,
            "_view_module": "@jupyter-widgets/base",
            "_view_module_version": "1.2.0",
            "_view_name": "StyleView",
            "description_width": ""
          }
        },
        "b1881ff0858e491487b352b70700c51c": {
          "model_module": "@jupyter-widgets/base",
          "model_name": "LayoutModel",
          "model_module_version": "1.2.0",
          "state": {
            "_model_module": "@jupyter-widgets/base",
            "_model_module_version": "1.2.0",
            "_model_name": "LayoutModel",
            "_view_count": null,
            "_view_module": "@jupyter-widgets/base",
            "_view_module_version": "1.2.0",
            "_view_name": "LayoutView",
            "align_content": null,
            "align_items": null,
            "align_self": null,
            "border": null,
            "bottom": null,
            "display": null,
            "flex": null,
            "flex_flow": null,
            "grid_area": null,
            "grid_auto_columns": null,
            "grid_auto_flow": null,
            "grid_auto_rows": null,
            "grid_column": null,
            "grid_gap": null,
            "grid_row": null,
            "grid_template_areas": null,
            "grid_template_columns": null,
            "grid_template_rows": null,
            "height": null,
            "justify_content": null,
            "justify_items": null,
            "left": null,
            "margin": null,
            "max_height": null,
            "max_width": null,
            "min_height": null,
            "min_width": null,
            "object_fit": null,
            "object_position": null,
            "order": null,
            "overflow": null,
            "overflow_x": null,
            "overflow_y": null,
            "padding": null,
            "right": null,
            "top": null,
            "visibility": null,
            "width": null
          }
        },
        "44c3f0874b944fc6b1606b74bd8d05d5": {
          "model_module": "@jupyter-widgets/controls",
          "model_name": "ProgressStyleModel",
          "model_module_version": "1.5.0",
          "state": {
            "_model_module": "@jupyter-widgets/controls",
            "_model_module_version": "1.5.0",
            "_model_name": "ProgressStyleModel",
            "_view_count": null,
            "_view_module": "@jupyter-widgets/base",
            "_view_module_version": "1.2.0",
            "_view_name": "StyleView",
            "bar_color": null,
            "description_width": ""
          }
        },
        "b98a0959405b41acb6bc12bb5197a25f": {
          "model_module": "@jupyter-widgets/base",
          "model_name": "LayoutModel",
          "model_module_version": "1.2.0",
          "state": {
            "_model_module": "@jupyter-widgets/base",
            "_model_module_version": "1.2.0",
            "_model_name": "LayoutModel",
            "_view_count": null,
            "_view_module": "@jupyter-widgets/base",
            "_view_module_version": "1.2.0",
            "_view_name": "LayoutView",
            "align_content": null,
            "align_items": null,
            "align_self": null,
            "border": null,
            "bottom": null,
            "display": null,
            "flex": null,
            "flex_flow": null,
            "grid_area": null,
            "grid_auto_columns": null,
            "grid_auto_flow": null,
            "grid_auto_rows": null,
            "grid_column": null,
            "grid_gap": null,
            "grid_row": null,
            "grid_template_areas": null,
            "grid_template_columns": null,
            "grid_template_rows": null,
            "height": null,
            "justify_content": null,
            "justify_items": null,
            "left": null,
            "margin": null,
            "max_height": null,
            "max_width": null,
            "min_height": null,
            "min_width": null,
            "object_fit": null,
            "object_position": null,
            "order": null,
            "overflow": null,
            "overflow_x": null,
            "overflow_y": null,
            "padding": null,
            "right": null,
            "top": null,
            "visibility": null,
            "width": null
          }
        },
        "3c8f1ef5ec8c4425abfef1faf9f237de": {
          "model_module": "@jupyter-widgets/controls",
          "model_name": "DescriptionStyleModel",
          "model_module_version": "1.5.0",
          "state": {
            "_model_module": "@jupyter-widgets/controls",
            "_model_module_version": "1.5.0",
            "_model_name": "DescriptionStyleModel",
            "_view_count": null,
            "_view_module": "@jupyter-widgets/base",
            "_view_module_version": "1.2.0",
            "_view_name": "StyleView",
            "description_width": ""
          }
        }
      }
    },
    "colab": {
      "provenance": [],
      "gpuType": "T4",
      "include_colab_link": true
    },
    "accelerator": "GPU"
  },
  "nbformat": 4,
  "nbformat_minor": 5
}